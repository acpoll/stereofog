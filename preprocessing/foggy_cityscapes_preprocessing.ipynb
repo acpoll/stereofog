{
 "cells": [
  {
   "cell_type": "code",
   "execution_count": 1,
   "metadata": {},
   "outputs": [],
   "source": [
    "import os"
   ]
  },
  {
   "cell_type": "code",
   "execution_count": 5,
   "metadata": {},
   "outputs": [
    {
     "name": "stdout",
     "output_type": "stream",
     "text": [
      "leftImg8bit: 15000\n",
      "leftImg8bit_foggy: 15000\n"
     ]
    }
   ],
   "source": [
    "for folder in ['leftImg8bit', 'leftImg8bit_foggy']:\n",
    "    subfolders = os.listdir(folder)\n",
    "\n",
    "    subfolder_images = 0\n",
    "\n",
    "    for subfolder in subfolders:\n",
    "        subfolder_path = os.path.join(folder, subfolder)\n",
    "        subsubfolders = os.listdir(subfolder_path)\n",
    "\n",
    "        for subsubfolder in subsubfolders:\n",
    "            subsubfolder_path = os.path.join(subfolder_path, subsubfolder)\n",
    "            subsubfolder_images = len(os.listdir(subsubfolder_path))\n",
    "\n",
    "            subfolder_images += subsubfolder_images\n",
    "\n",
    "    print(f'{folder}: {subfolder_images}')"
   ]
  },
  {
   "cell_type": "code",
   "execution_count": 4,
   "metadata": {},
   "outputs": [],
   "source": [
    "for folder in os.listdir('leftImg8bit'):\n",
    "    folder_path = os.path.join('leftImg8bit', folder)\n",
    "\n",
    "    for subfolder in os.listdir(folder_path):\n",
    "        subfolder_path = os.path.join(folder_path, subfolder)\n",
    "\n",
    "        # Duplicate the image twice with different names\n",
    "        for image in os.listdir(subfolder_path):\n",
    "            image_path = os.path.join(subfolder_path, image)\n",
    "\n",
    "            for addition in ['_foggy_beta_0.01', '_foggy_beta_0.02']:\n",
    "                new_image_name = image[:-4] + addition + '.png'\n",
    "                new_image_path = os.path.join(subfolder_path, new_image_name)\n",
    "\n",
    "                os.system(f'cp {image_path} {new_image_path}')\n",
    "        \n",
    "            # Rename the original image\n",
    "            new_image_name = image[:-4] + '_foggy_beta_0.005' + '.png'\n",
    "            new_image_path = os.path.join(subfolder_path, new_image_name)\n",
    "\n",
    "            os.system(f'mv {image_path} {new_image_path}')\n"
   ]
  },
  {
   "cell_type": "code",
   "execution_count": 3,
   "metadata": {},
   "outputs": [],
   "source": [
    "# Moving all files from their subfolders into the main folder\n",
    "\n",
    "for folder in ['leftImg8bit', 'leftImg8bit_foggy']:\n",
    "    subfolders = os.listdir(folder)\n",
    "\n",
    "    for subfolder in subfolders:\n",
    "        subfolder_path = os.path.join(folder, subfolder)\n",
    "\n",
    "        for subsubfolder in os.listdir(subfolder_path):\n",
    "\n",
    "            subsubfolder_path = os.path.join(subfolder_path, subsubfolder)        \n",
    "            for image in os.listdir(subsubfolder_path):\n",
    "                image_path = os.path.join(subsubfolder_path, image)\n",
    "                new_image_path = os.path.join(subfolder_path, image)\n",
    "\n",
    "                os.system(f'mv {image_path} {new_image_path}')\n",
    "\n",
    "            os.rmdir(subsubfolder_path)"
   ]
  }
 ],
 "metadata": {
  "kernelspec": {
   "display_name": "base",
   "language": "python",
   "name": "python3"
  },
  "language_info": {
   "codemirror_mode": {
    "name": "ipython",
    "version": 3
   },
   "file_extension": ".py",
   "mimetype": "text/x-python",
   "name": "python",
   "nbconvert_exporter": "python",
   "pygments_lexer": "ipython3",
   "version": "3.9.7"
  },
  "orig_nbformat": 4
 },
 "nbformat": 4,
 "nbformat_minor": 2
}
