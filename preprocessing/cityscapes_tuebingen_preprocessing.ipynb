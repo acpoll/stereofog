{
 "cells": [
  {
   "cell_type": "code",
   "execution_count": 3,
   "metadata": {},
   "outputs": [],
   "source": [
    "import os\n",
    "import shutil"
   ]
  },
  {
   "cell_type": "code",
   "execution_count": 4,
   "metadata": {},
   "outputs": [],
   "source": [
    "folders = [item for item in os.listdir() if 'V' in item]\n",
    "\n",
    "os.mkdir('leftImg8bit_fogged')\n",
    "\n",
    "os.mkdir('leftImg8bit_fogged/frankfurt')\n",
    "os.mkdir('leftImg8bit_fogged/lindau')\n",
    "os.mkdir('leftImg8bit_fogged/munster')\n",
    "\n",
    "for folder in folders:\n",
    "    addition = folder[-5:]\n",
    "    for subfolder in os.listdir(folder):\n",
    "        for image in os.listdir(os.path.join(folder, subfolder)):\n",
    "            new_name = image[:-4] + addition + image[-4:]\n",
    "            shutil.move(os.path.join(folder, subfolder, image), os.path.join('leftImg8bit_fogged', subfolder, new_name))"
   ]
  },
  {
   "cell_type": "code",
   "execution_count": 6,
   "metadata": {},
   "outputs": [],
   "source": [
    "for subfolder in os.listdir('leftImg8bit'):\n",
    "    for image in os.listdir(os.path.join('leftImg8bit', subfolder)):\n",
    "        for addition in ['_V150', '_V300', '_V600']:\n",
    "            new_name = image[:-4] + addition + image[-4:]\n",
    "            shutil.copy(os.path.join('leftImg8bit', subfolder, image), os.path.join('leftImg8bit', subfolder, new_name))\n",
    "\n",
    "        os.remove(os.path.join('leftImg8bit', subfolder, image))"
   ]
  }
 ],
 "metadata": {
  "kernelspec": {
   "display_name": "base",
   "language": "python",
   "name": "python3"
  },
  "language_info": {
   "codemirror_mode": {
    "name": "ipython",
    "version": 3
   },
   "file_extension": ".py",
   "mimetype": "text/x-python",
   "name": "python",
   "nbconvert_exporter": "python",
   "pygments_lexer": "ipython3",
   "version": "3.9.7"
  },
  "orig_nbformat": 4
 },
 "nbformat": 4,
 "nbformat_minor": 2
}
