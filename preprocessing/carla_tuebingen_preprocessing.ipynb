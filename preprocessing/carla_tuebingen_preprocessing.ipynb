{
 "cells": [
  {
   "cell_type": "code",
   "execution_count": 1,
   "metadata": {},
   "outputs": [],
   "source": [
    "import os\n",
    "import shutil"
   ]
  },
  {
   "cell_type": "code",
   "execution_count": 2,
   "metadata": {},
   "outputs": [],
   "source": [
    "ground_truth_folder = 'ground_truth'\n",
    "os.mkdir(ground_truth_folder)\n",
    "\n",
    "fogged_folder = 'fogged'\n",
    "os.mkdir(fogged_folder)\n",
    "\n",
    "for folder in ['Motorway', 'Rural_Fog']:\n",
    "    for subfolder in os.listdir(folder):\n",
    "        if 'density' in subfolder:\n",
    "            destination_folder = fogged_folder\n",
    "\n",
    "            for file in os.listdir(os.path.join(folder, subfolder, 'left_img')):\n",
    "                new_name = folder + '_' + subfolder + '_' + file\n",
    "                shutil.move(os.path.join(folder, subfolder, 'left_img', file), os.path.join(destination_folder, new_name))\n",
    "        \n",
    "        else:\n",
    "            destination_folder = ground_truth_folder\n",
    "            for file in os.listdir(os.path.join(folder, subfolder, 'left_img')):\n",
    "                for addition in ['_density_0.1', '_density_0.02', '_density_0.05-V300']:\n",
    "                    new_name = folder + '_' + addition + '_' + file\n",
    "                    shutil.copy(os.path.join(folder, subfolder, 'left_img', file), os.path.join(destination_folder, new_name))\n",
    "        \n"
   ]
  }
 ],
 "metadata": {
  "kernelspec": {
   "display_name": "base",
   "language": "python",
   "name": "python3"
  },
  "language_info": {
   "codemirror_mode": {
    "name": "ipython",
    "version": 3
   },
   "file_extension": ".py",
   "mimetype": "text/x-python",
   "name": "python",
   "nbconvert_exporter": "python",
   "pygments_lexer": "ipython3",
   "version": "3.9.7"
  },
  "orig_nbformat": 4
 },
 "nbformat": 4,
 "nbformat_minor": 2
}
